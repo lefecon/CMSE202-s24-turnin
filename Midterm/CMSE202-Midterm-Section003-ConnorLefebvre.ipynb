{
 "cells": [
  {
   "cell_type": "markdown",
   "metadata": {},
   "source": [
    "## <p style=\"text-align: right;\"> &#9989; Put your name here</p>"
   ]
  },
  {
   "cell_type": "markdown",
   "metadata": {},
   "source": [
    "# CMSE 202 Midterm (Section 003 - Spring 2024)\n",
    "\n",
    "The goal of this midterm is to give you the opportunity to test out some of the skills that you've developed thus far this semester. In particular, you'll practice setting up a GitHub repository, committing and pushing repository changes, downloading data with command line tools, performing some data analysis, possibly using a new Python package, and writing a python class. You should find that you have all of the skills necessary to complete this exam with even just eight weeks of CMSE 202 under your belt!\n",
    "\n",
    "You are encouraged to look through the entire exam before you get started so that you can appropriately budget your time and understand the broad goals of the exam. Once you've read through it, try doing Parts 0 and 1 first so that you have your repository set up and you download all necessary data files as they will be necessary to complete the assigned tasks. Let your instructor know right away if you have problems downloading the data!\n",
    "\n",
    "**The exam is set up so that even if you get stuck on one part there are opportunities to get points on the other parts, so consider jumping ahead if you feel like you aren't making progress and then come back later if you have time.**\n",
    "\n",
    "**Important note about using online resources**: This exam is \"open internet\". That means that you can look up documentation, google how to accomplish certain Python tasks, etc. Being able to effectively use the internet for computational modeling and data science is a very important skill, so we want to make sure you have the opportunity to exercise that skill. **However**: The use of any person-to-person communication software is absolutely not acceptable. If you are seen accessing your email, using a chat program (e.g. Slack), **or AI tools like ChatGPT** or any sort of collaborative cloud storage or document software (e.g. Google Documents), you will be at risk for receiving a zero on the exam and the course.\n",
    "\n",
    "**Keep your eyes on your screen!** Unfortunately, there isn't enough space in the room for everyone to sit at their own table so please do your best to keep your eyes on your own screen. This exam is designed to give *you* the opportunity to show the instructor what you can do and you should hold yourself accountable for maintaining a high level of academic integrity. If any of the instructors observe suspicious behavior, you will, again, risk receiving a zero in the course.\n",
    "\n",
    "There are **65 points** possible on this exam. The point breakdowns are in the section headers and within each question."
   ]
  },
  {
   "cell_type": "markdown",
   "metadata": {},
   "source": [
    "---\n",
    "## Part 0: Academic integrity statement  (3 points)\n",
    "\n",
    "Read the following statement and edit the markdown text to put your name in the statement. This is your commitment to doing your own authentic work on this exam. "
   ]
  },
  {
   "cell_type": "markdown",
   "metadata": {},
   "source": [
    "> I, Connor Lefebvre, affirm that this exam represents my own authetic work, without the use of any unpermitted aids or resources or person-to-person communication. I understand that this exam an an opportunity to showcase my own progress in developing and improving my computational skills and have done my best to demonstrate those skills. I understand that if I break exam policy, I can get 0 points in the exam and course and will be reported to MSU."
   ]
  },
  {
   "cell_type": "markdown",
   "metadata": {},
   "source": [
    "---\n",
    "## Part 1 (6 points): Add to your Git repository to track your progress on your exam\n",
    "\n",
    "Before you get to far along in the exam, you're going to add it to the `cmse202-s24-turnin` repository you created in class (or in Homework 1) so that you can track your progress on the exam and preserve the final version that you turn in. In order to do this you need to\n",
    "\n",
    "**&#9989; Do the following**:\n",
    "\n",
    "1. Navigate to your `cmse202-s24-turnin` repository and create a new directory called `midterm`.\n",
    "2. Move this notebook into that **new directory** in your repository, then **add it and commit it to your repository**.\n",
    "3. Finally, to test that everything is working, \"git push\" the file so that it ends up in your GitHub repository.\n",
    "\n",
    "**Important**: Double check you've added your Professor and your TA as collaborators to your \"turnin\" respository (you should have done this in your homework assignment).\n",
    "\n",
    "**Also important**: Make sure that the version of this notebook that you are working on is the same one that you just added to your repository! If you are working on a different copy of the notebook, **none of your changes will be tracked**!\n",
    "\n",
    "If everything went as intended, the file should now show up on your GitHub account in the \"`cmse202-s24-turnin`\" repository inside the `midterm` directory that you just created.  Periodically, **you'll be asked to commit your changes to the repository and push them to the remote GitHub location**. Of course, you can always commit your changes more often than that, if you wish.  It can be good to get into a habit of committing your changes any time you make a significant modification.\n",
    "\n",
    "&#9989; **Do this**: Before you move on, put the command that your instructor should run to clone your repository in the markdown cell below. **(3 points)**"
   ]
  },
  {
   "cell_type": "markdown",
   "metadata": {},
   "source": [
    "``` bash\n",
    "git clone https://github.com/lefecon/CMSE202-s24-turnin\n",
    "\n",
    "```"
   ]
  },
  {
   "cell_type": "markdown",
   "metadata": {},
   "source": [
    "&#9989; **Do this**: Also list all Git or terminal commands you used for the steps above below.  **(3 points)**"
   ]
  },
  {
   "cell_type": "markdown",
   "metadata": {},
   "source": [
    "``` bash\n",
    "git add Midterm\n",
    "\n",
    "git staus\n",
    "\n",
    "git push https://github.com/lefecon/CMSE202-s24-turnin\n",
    "```"
   ]
  },
  {
   "cell_type": "markdown",
   "metadata": {},
   "source": [
    "---\n",
    "## Part 2: Downloading and analyzing unfamiliar data (20 points)"
   ]
  },
  {
   "cell_type": "markdown",
   "metadata": {},
   "source": [
    "In this part of the exam, you will load and visualize a dataset that you probably have not used before. In particular, you will be working with data from the world happiness report 2023. Some information about the dataset can be found here https://www.kaggle.com/datasets/ajaypalsinghlo/world-happiness-report-2023?select=WHR2023.csv.\n",
    "\n",
    "To get started, you will need to download the file - `WHR2023.csv`. Since it might be annoying to download the `WHR2023.csv` file from Kaggle, I have provided the following direct link to this file:\n",
    "* `https://raw.githubusercontent.com/ravisha3/CMSE202Spring2024Section3Midterm/main/WHR2023.csv`\n",
    "\n",
    "The file is also on D2L."
   ]
  },
  {
   "cell_type": "markdown",
   "metadata": {},
   "source": [
    "&#9989; **Question 2.1 (1 point)**: **Do this now:** Save the file in the same directory as your notebook so you can load it directly. **Then, in the cell below, put the command line command(s) you used to download the file.** If you did not use a command line tool to download the file, write down the command(s) that *would* have downloaded the file."
   ]
  },
  {
   "cell_type": "markdown",
   "metadata": {},
   "source": [
    "``` bash\n",
    "curl -o \"WHR2023.csv\" https://raw.githubusercontent.com/ravisha3/CMSE202Spring2024Section3Midterm/main/WHR2023.csv\n",
    "\n",
    "```"
   ]
  },
  {
   "cell_type": "markdown",
   "metadata": {},
   "source": [
    "&#9989; **Question 2.2 (2 points)**: Read in the `WHR2023.csv` dataset into a `Pandas` `DataFrame` and then display only the last 12 rows."
   ]
  },
  {
   "cell_type": "code",
   "execution_count": 1,
   "metadata": {},
   "outputs": [],
   "source": [
    "import pandas as pd\n",
    "import numpy as np\n",
    "import matplotlib.pyplot as plt"
   ]
  },
  {
   "cell_type": "code",
   "execution_count": 14,
   "metadata": {},
   "outputs": [
    {
     "data": {
      "text/html": [
       "<div>\n",
       "<style scoped>\n",
       "    .dataframe tbody tr th:only-of-type {\n",
       "        vertical-align: middle;\n",
       "    }\n",
       "\n",
       "    .dataframe tbody tr th {\n",
       "        vertical-align: top;\n",
       "    }\n",
       "\n",
       "    .dataframe thead th {\n",
       "        text-align: right;\n",
       "    }\n",
       "</style>\n",
       "<table border=\"1\" class=\"dataframe\">\n",
       "  <thead>\n",
       "    <tr style=\"text-align: right;\">\n",
       "      <th></th>\n",
       "      <th>Country name</th>\n",
       "      <th>Ladder score</th>\n",
       "      <th>Standard error of ladder score</th>\n",
       "      <th>upperwhisker</th>\n",
       "      <th>lowerwhisker</th>\n",
       "      <th>Logged GDP per capita</th>\n",
       "      <th>Social support</th>\n",
       "      <th>Healthy life expectancy</th>\n",
       "      <th>Freedom to make life choices</th>\n",
       "      <th>Generosity</th>\n",
       "      <th>Perceptions of corruption</th>\n",
       "      <th>Ladder score in Dystopia</th>\n",
       "      <th>Explained by: Log GDP per capita</th>\n",
       "      <th>Explained by: Social support</th>\n",
       "      <th>Explained by: Healthy life expectancy</th>\n",
       "      <th>Explained by: Freedom to make life choices</th>\n",
       "      <th>Explained by: Generosity</th>\n",
       "      <th>Explained by: Perceptions of corruption</th>\n",
       "      <th>Dystopia + residual</th>\n",
       "    </tr>\n",
       "  </thead>\n",
       "  <tbody>\n",
       "    <tr>\n",
       "      <th>125</th>\n",
       "      <td>India</td>\n",
       "      <td>4.036</td>\n",
       "      <td>0.029</td>\n",
       "      <td>4.092</td>\n",
       "      <td>3.980</td>\n",
       "      <td>8.759</td>\n",
       "      <td>0.608</td>\n",
       "      <td>60.777</td>\n",
       "      <td>0.897</td>\n",
       "      <td>0.072</td>\n",
       "      <td>0.774</td>\n",
       "      <td>1.778</td>\n",
       "      <td>1.159</td>\n",
       "      <td>0.674</td>\n",
       "      <td>0.252</td>\n",
       "      <td>0.685</td>\n",
       "      <td>0.175</td>\n",
       "      <td>0.111</td>\n",
       "      <td>0.979</td>\n",
       "    </tr>\n",
       "    <tr>\n",
       "      <th>126</th>\n",
       "      <td>Madagascar</td>\n",
       "      <td>4.019</td>\n",
       "      <td>0.092</td>\n",
       "      <td>4.199</td>\n",
       "      <td>3.839</td>\n",
       "      <td>7.290</td>\n",
       "      <td>0.650</td>\n",
       "      <td>58.050</td>\n",
       "      <td>0.522</td>\n",
       "      <td>0.075</td>\n",
       "      <td>0.742</td>\n",
       "      <td>1.778</td>\n",
       "      <td>0.632</td>\n",
       "      <td>0.779</td>\n",
       "      <td>0.178</td>\n",
       "      <td>0.187</td>\n",
       "      <td>0.177</td>\n",
       "      <td>0.134</td>\n",
       "      <td>1.932</td>\n",
       "    </tr>\n",
       "    <tr>\n",
       "      <th>127</th>\n",
       "      <td>Zambia</td>\n",
       "      <td>3.982</td>\n",
       "      <td>0.094</td>\n",
       "      <td>4.167</td>\n",
       "      <td>3.797</td>\n",
       "      <td>8.074</td>\n",
       "      <td>0.694</td>\n",
       "      <td>55.032</td>\n",
       "      <td>0.791</td>\n",
       "      <td>0.098</td>\n",
       "      <td>0.818</td>\n",
       "      <td>1.778</td>\n",
       "      <td>0.914</td>\n",
       "      <td>0.890</td>\n",
       "      <td>0.095</td>\n",
       "      <td>0.545</td>\n",
       "      <td>0.189</td>\n",
       "      <td>0.080</td>\n",
       "      <td>1.270</td>\n",
       "    </tr>\n",
       "    <tr>\n",
       "      <th>128</th>\n",
       "      <td>Tanzania</td>\n",
       "      <td>3.694</td>\n",
       "      <td>0.075</td>\n",
       "      <td>3.840</td>\n",
       "      <td>3.547</td>\n",
       "      <td>7.857</td>\n",
       "      <td>0.653</td>\n",
       "      <td>59.401</td>\n",
       "      <td>0.838</td>\n",
       "      <td>0.182</td>\n",
       "      <td>0.554</td>\n",
       "      <td>1.778</td>\n",
       "      <td>0.836</td>\n",
       "      <td>0.787</td>\n",
       "      <td>0.214</td>\n",
       "      <td>0.607</td>\n",
       "      <td>0.234</td>\n",
       "      <td>0.269</td>\n",
       "      <td>0.747</td>\n",
       "    </tr>\n",
       "    <tr>\n",
       "      <th>129</th>\n",
       "      <td>Comoros</td>\n",
       "      <td>3.545</td>\n",
       "      <td>0.117</td>\n",
       "      <td>3.774</td>\n",
       "      <td>3.317</td>\n",
       "      <td>8.075</td>\n",
       "      <td>0.471</td>\n",
       "      <td>59.425</td>\n",
       "      <td>0.470</td>\n",
       "      <td>-0.014</td>\n",
       "      <td>0.727</td>\n",
       "      <td>1.778</td>\n",
       "      <td>0.914</td>\n",
       "      <td>0.327</td>\n",
       "      <td>0.215</td>\n",
       "      <td>0.117</td>\n",
       "      <td>0.129</td>\n",
       "      <td>0.145</td>\n",
       "      <td>1.699</td>\n",
       "    </tr>\n",
       "    <tr>\n",
       "      <th>130</th>\n",
       "      <td>Malawi</td>\n",
       "      <td>3.495</td>\n",
       "      <td>0.090</td>\n",
       "      <td>3.671</td>\n",
       "      <td>3.320</td>\n",
       "      <td>7.302</td>\n",
       "      <td>0.531</td>\n",
       "      <td>58.475</td>\n",
       "      <td>0.750</td>\n",
       "      <td>0.005</td>\n",
       "      <td>0.749</td>\n",
       "      <td>1.778</td>\n",
       "      <td>0.637</td>\n",
       "      <td>0.479</td>\n",
       "      <td>0.189</td>\n",
       "      <td>0.490</td>\n",
       "      <td>0.139</td>\n",
       "      <td>0.129</td>\n",
       "      <td>1.432</td>\n",
       "    </tr>\n",
       "    <tr>\n",
       "      <th>131</th>\n",
       "      <td>Botswana</td>\n",
       "      <td>3.435</td>\n",
       "      <td>0.136</td>\n",
       "      <td>3.702</td>\n",
       "      <td>3.168</td>\n",
       "      <td>9.629</td>\n",
       "      <td>0.753</td>\n",
       "      <td>54.725</td>\n",
       "      <td>0.742</td>\n",
       "      <td>-0.215</td>\n",
       "      <td>0.830</td>\n",
       "      <td>1.778</td>\n",
       "      <td>1.471</td>\n",
       "      <td>1.041</td>\n",
       "      <td>0.087</td>\n",
       "      <td>0.480</td>\n",
       "      <td>0.021</td>\n",
       "      <td>0.071</td>\n",
       "      <td>0.264</td>\n",
       "    </tr>\n",
       "    <tr>\n",
       "      <th>132</th>\n",
       "      <td>Congo (Kinshasa)</td>\n",
       "      <td>3.207</td>\n",
       "      <td>0.095</td>\n",
       "      <td>3.394</td>\n",
       "      <td>3.020</td>\n",
       "      <td>7.007</td>\n",
       "      <td>0.652</td>\n",
       "      <td>55.375</td>\n",
       "      <td>0.664</td>\n",
       "      <td>0.086</td>\n",
       "      <td>0.834</td>\n",
       "      <td>1.778</td>\n",
       "      <td>0.531</td>\n",
       "      <td>0.784</td>\n",
       "      <td>0.105</td>\n",
       "      <td>0.375</td>\n",
       "      <td>0.183</td>\n",
       "      <td>0.068</td>\n",
       "      <td>1.162</td>\n",
       "    </tr>\n",
       "    <tr>\n",
       "      <th>133</th>\n",
       "      <td>Zimbabwe</td>\n",
       "      <td>3.204</td>\n",
       "      <td>0.061</td>\n",
       "      <td>3.323</td>\n",
       "      <td>3.084</td>\n",
       "      <td>7.641</td>\n",
       "      <td>0.690</td>\n",
       "      <td>54.050</td>\n",
       "      <td>0.654</td>\n",
       "      <td>-0.046</td>\n",
       "      <td>0.766</td>\n",
       "      <td>1.778</td>\n",
       "      <td>0.758</td>\n",
       "      <td>0.881</td>\n",
       "      <td>0.069</td>\n",
       "      <td>0.363</td>\n",
       "      <td>0.112</td>\n",
       "      <td>0.117</td>\n",
       "      <td>0.905</td>\n",
       "    </tr>\n",
       "    <tr>\n",
       "      <th>134</th>\n",
       "      <td>Sierra Leone</td>\n",
       "      <td>3.138</td>\n",
       "      <td>0.082</td>\n",
       "      <td>3.299</td>\n",
       "      <td>2.976</td>\n",
       "      <td>7.394</td>\n",
       "      <td>0.555</td>\n",
       "      <td>54.900</td>\n",
       "      <td>0.660</td>\n",
       "      <td>0.105</td>\n",
       "      <td>0.858</td>\n",
       "      <td>1.778</td>\n",
       "      <td>0.670</td>\n",
       "      <td>0.540</td>\n",
       "      <td>0.092</td>\n",
       "      <td>0.371</td>\n",
       "      <td>0.193</td>\n",
       "      <td>0.051</td>\n",
       "      <td>1.221</td>\n",
       "    </tr>\n",
       "    <tr>\n",
       "      <th>135</th>\n",
       "      <td>Lebanon</td>\n",
       "      <td>2.392</td>\n",
       "      <td>0.044</td>\n",
       "      <td>2.479</td>\n",
       "      <td>2.305</td>\n",
       "      <td>9.478</td>\n",
       "      <td>0.530</td>\n",
       "      <td>66.149</td>\n",
       "      <td>0.474</td>\n",
       "      <td>-0.141</td>\n",
       "      <td>0.891</td>\n",
       "      <td>1.778</td>\n",
       "      <td>1.417</td>\n",
       "      <td>0.476</td>\n",
       "      <td>0.398</td>\n",
       "      <td>0.123</td>\n",
       "      <td>0.061</td>\n",
       "      <td>0.027</td>\n",
       "      <td>-0.110</td>\n",
       "    </tr>\n",
       "    <tr>\n",
       "      <th>136</th>\n",
       "      <td>Afghanistan</td>\n",
       "      <td>1.859</td>\n",
       "      <td>0.033</td>\n",
       "      <td>1.923</td>\n",
       "      <td>1.795</td>\n",
       "      <td>7.324</td>\n",
       "      <td>0.341</td>\n",
       "      <td>54.712</td>\n",
       "      <td>0.382</td>\n",
       "      <td>-0.081</td>\n",
       "      <td>0.847</td>\n",
       "      <td>1.778</td>\n",
       "      <td>0.645</td>\n",
       "      <td>0.000</td>\n",
       "      <td>0.087</td>\n",
       "      <td>0.000</td>\n",
       "      <td>0.093</td>\n",
       "      <td>0.059</td>\n",
       "      <td>0.976</td>\n",
       "    </tr>\n",
       "  </tbody>\n",
       "</table>\n",
       "</div>"
      ],
      "text/plain": [
       "         Country name  Ladder score  Standard error of ladder score  \\\n",
       "125             India         4.036                           0.029   \n",
       "126        Madagascar         4.019                           0.092   \n",
       "127            Zambia         3.982                           0.094   \n",
       "128          Tanzania         3.694                           0.075   \n",
       "129           Comoros         3.545                           0.117   \n",
       "130            Malawi         3.495                           0.090   \n",
       "131          Botswana         3.435                           0.136   \n",
       "132  Congo (Kinshasa)         3.207                           0.095   \n",
       "133          Zimbabwe         3.204                           0.061   \n",
       "134      Sierra Leone         3.138                           0.082   \n",
       "135           Lebanon         2.392                           0.044   \n",
       "136       Afghanistan         1.859                           0.033   \n",
       "\n",
       "     upperwhisker  lowerwhisker  Logged GDP per capita  Social support  \\\n",
       "125         4.092         3.980                  8.759           0.608   \n",
       "126         4.199         3.839                  7.290           0.650   \n",
       "127         4.167         3.797                  8.074           0.694   \n",
       "128         3.840         3.547                  7.857           0.653   \n",
       "129         3.774         3.317                  8.075           0.471   \n",
       "130         3.671         3.320                  7.302           0.531   \n",
       "131         3.702         3.168                  9.629           0.753   \n",
       "132         3.394         3.020                  7.007           0.652   \n",
       "133         3.323         3.084                  7.641           0.690   \n",
       "134         3.299         2.976                  7.394           0.555   \n",
       "135         2.479         2.305                  9.478           0.530   \n",
       "136         1.923         1.795                  7.324           0.341   \n",
       "\n",
       "     Healthy life expectancy  Freedom to make life choices  Generosity  \\\n",
       "125                   60.777                         0.897       0.072   \n",
       "126                   58.050                         0.522       0.075   \n",
       "127                   55.032                         0.791       0.098   \n",
       "128                   59.401                         0.838       0.182   \n",
       "129                   59.425                         0.470      -0.014   \n",
       "130                   58.475                         0.750       0.005   \n",
       "131                   54.725                         0.742      -0.215   \n",
       "132                   55.375                         0.664       0.086   \n",
       "133                   54.050                         0.654      -0.046   \n",
       "134                   54.900                         0.660       0.105   \n",
       "135                   66.149                         0.474      -0.141   \n",
       "136                   54.712                         0.382      -0.081   \n",
       "\n",
       "     Perceptions of corruption  Ladder score in Dystopia  \\\n",
       "125                      0.774                     1.778   \n",
       "126                      0.742                     1.778   \n",
       "127                      0.818                     1.778   \n",
       "128                      0.554                     1.778   \n",
       "129                      0.727                     1.778   \n",
       "130                      0.749                     1.778   \n",
       "131                      0.830                     1.778   \n",
       "132                      0.834                     1.778   \n",
       "133                      0.766                     1.778   \n",
       "134                      0.858                     1.778   \n",
       "135                      0.891                     1.778   \n",
       "136                      0.847                     1.778   \n",
       "\n",
       "     Explained by: Log GDP per capita  Explained by: Social support  \\\n",
       "125                             1.159                         0.674   \n",
       "126                             0.632                         0.779   \n",
       "127                             0.914                         0.890   \n",
       "128                             0.836                         0.787   \n",
       "129                             0.914                         0.327   \n",
       "130                             0.637                         0.479   \n",
       "131                             1.471                         1.041   \n",
       "132                             0.531                         0.784   \n",
       "133                             0.758                         0.881   \n",
       "134                             0.670                         0.540   \n",
       "135                             1.417                         0.476   \n",
       "136                             0.645                         0.000   \n",
       "\n",
       "     Explained by: Healthy life expectancy  \\\n",
       "125                                  0.252   \n",
       "126                                  0.178   \n",
       "127                                  0.095   \n",
       "128                                  0.214   \n",
       "129                                  0.215   \n",
       "130                                  0.189   \n",
       "131                                  0.087   \n",
       "132                                  0.105   \n",
       "133                                  0.069   \n",
       "134                                  0.092   \n",
       "135                                  0.398   \n",
       "136                                  0.087   \n",
       "\n",
       "     Explained by: Freedom to make life choices  Explained by: Generosity  \\\n",
       "125                                       0.685                     0.175   \n",
       "126                                       0.187                     0.177   \n",
       "127                                       0.545                     0.189   \n",
       "128                                       0.607                     0.234   \n",
       "129                                       0.117                     0.129   \n",
       "130                                       0.490                     0.139   \n",
       "131                                       0.480                     0.021   \n",
       "132                                       0.375                     0.183   \n",
       "133                                       0.363                     0.112   \n",
       "134                                       0.371                     0.193   \n",
       "135                                       0.123                     0.061   \n",
       "136                                       0.000                     0.093   \n",
       "\n",
       "     Explained by: Perceptions of corruption  Dystopia + residual  \n",
       "125                                    0.111                0.979  \n",
       "126                                    0.134                1.932  \n",
       "127                                    0.080                1.270  \n",
       "128                                    0.269                0.747  \n",
       "129                                    0.145                1.699  \n",
       "130                                    0.129                1.432  \n",
       "131                                    0.071                0.264  \n",
       "132                                    0.068                1.162  \n",
       "133                                    0.117                0.905  \n",
       "134                                    0.051                1.221  \n",
       "135                                    0.027               -0.110  \n",
       "136                                    0.059                0.976  "
      ]
     },
     "execution_count": 14,
     "metadata": {},
     "output_type": "execute_result"
    }
   ],
   "source": [
    "# Put your code for Question 2.2 here\n",
    "df = pd.read_csv('WHR2023.csv')\n",
    "df.tail(12)"
   ]
  },
  {
   "cell_type": "markdown",
   "metadata": {},
   "source": [
    "&#9989; **Question 2.3 (8 points total)**: For each of the questions below, write a piece of code to answer. **Note that you must use and show code to figure out the answer to receive the credit.**"
   ]
  },
  {
   "cell_type": "markdown",
   "metadata": {},
   "source": [
    "&#9989; **Question 2.3.1 (1 point)**: How many countries are in the report?"
   ]
  },
  {
   "cell_type": "code",
   "execution_count": 22,
   "metadata": {},
   "outputs": [
    {
     "data": {
      "text/plain": [
       "137"
      ]
     },
     "execution_count": 22,
     "metadata": {},
     "output_type": "execute_result"
    }
   ],
   "source": [
    "# Put your code for Question 2.3.1 here\n",
    "total_countries = len(df)\n",
    "total_countries"
   ]
  },
  {
   "cell_type": "markdown",
   "metadata": {},
   "source": [
    "&#9989; **Question 2.3.2 (1 point)**: How many columns does this dataset have?"
   ]
  },
  {
   "cell_type": "code",
   "execution_count": 26,
   "metadata": {},
   "outputs": [
    {
     "data": {
      "text/plain": [
       "19"
      ]
     },
     "execution_count": 26,
     "metadata": {},
     "output_type": "execute_result"
    }
   ],
   "source": [
    "# Put your code for Question 2.3.2 here\n",
    "df_flipped = df.T\n",
    "columns = len(df_flipped)\n",
    "columns"
   ]
  },
  {
   "cell_type": "code",
   "execution_count": 27,
   "metadata": {},
   "outputs": [
    {
     "data": {
      "text/plain": [
       "(137, 19)"
      ]
     },
     "execution_count": 27,
     "metadata": {},
     "output_type": "execute_result"
    }
   ],
   "source": [
    "df.shape"
   ]
  },
  {
   "cell_type": "markdown",
   "metadata": {},
   "source": [
    "&#9989; **Question 2.3.3 (1 point)**: What is the mean value of the `Ladder score` column?"
   ]
  },
  {
   "cell_type": "code",
   "execution_count": 33,
   "metadata": {},
   "outputs": [
    {
     "name": "stdout",
     "output_type": "stream",
     "text": [
      "5.539795620437956\n"
     ]
    }
   ],
   "source": [
    "# Put your code for Question 2.3.3 here\n",
    "ladder_score = df['Ladder score']\n",
    "print(ladder_score.mean())"
   ]
  },
  {
   "cell_type": "markdown",
   "metadata": {},
   "source": [
    "&#9989; **Question 2.3.4 (2 points)**: What is the maximum `Healthy life expectancy`? What is the country/location that has it? **Hint** `Pandas` has an `idxmax()` method that can help locate the index of the maximum value in a column."
   ]
  },
  {
   "cell_type": "code",
   "execution_count": 41,
   "metadata": {},
   "outputs": [
    {
     "name": "stdout",
     "output_type": "stream",
     "text": [
      "77.28 , 81\n"
     ]
    }
   ],
   "source": [
    "# Put your code for Question 2.3.4 here\n",
    "life_expectancy = df['Healthy life expectancy']\n",
    "print(life_expectancy.max(),',',life_expectancy.idxmax())"
   ]
  },
  {
   "cell_type": "markdown",
   "metadata": {},
   "source": [
    "&#9989; **Question 2.3.5 (3 points)**: Which countries have `Healthy life expectancy` larger than 73? Based on the code output, which continent are they on?"
   ]
  },
  {
   "cell_type": "code",
   "execution_count": 81,
   "metadata": {
    "scrolled": true
   },
   "outputs": [
    {
     "name": "stdout",
     "output_type": "stream",
     "text": [
      "['Singapore', 'Japan', 'South Korea', 'Hong Kong S.A.R. of China']\n"
     ]
    }
   ],
   "source": [
    "# Put your code for Question 2.3.5 here\n",
    "country_name = df['Country name']\n",
    "over_73 = []\n",
    "\n",
    "for i in range(len(life_expectancy)):\n",
    "    if life_expectancy[i] > 73:\n",
    "        over_73.append(country_name[i])\n",
    "        \n",
    "print(over_73)"
   ]
  },
  {
   "cell_type": "markdown",
   "metadata": {},
   "source": [
    "The countries with life expectancy's greater than 73 are in Asia"
   ]
  },
  {
   "cell_type": "markdown",
   "metadata": {},
   "source": [
    "**Reminder**: If you are having trouble with parts of Question 2.3, don't forget that you can use your favorite search engine to lookup how to do certain tasks with a `Pandas` `DataFrame`."
   ]
  },
  {
   "cell_type": "markdown",
   "metadata": {},
   "source": [
    "&#9989; **Question 2.4 (3 points)**: Make a scatterplot showing the `Ladder score` on the x-axis and `Freedom to make life choices` on the y-axis. **Make sure to label your axes and give your plot a title.**"
   ]
  },
  {
   "cell_type": "code",
   "execution_count": 72,
   "metadata": {},
   "outputs": [
    {
     "data": {
      "text/plain": [
       "Text(0.5, 1.0, 'Freedom to make life choices vs. Ladder Score')"
      ]
     },
     "execution_count": 72,
     "metadata": {},
     "output_type": "execute_result"
    },
    {
     "data": {
      "image/png": "[encoded data removed]",
      "text/plain": [
       "<Figure size 640x480 with 1 Axes>"
      ]
     },
     "metadata": {},
     "output_type": "display_data"
    }
   ],
   "source": [
    "# Put your code for Question 2.4 here\n",
    "choice_freedom = df['Freedom to make life choices']\n",
    "plt.scatter(ladder_score,choice_freedom)\n",
    "plt.xlabel('Ladder Score')\n",
    "plt.ylabel('Freedom to make life choices')\n",
    "plt.title('Freedom to make life choices vs. Ladder Score')"
   ]
  },
  {
   "cell_type": "markdown",
   "metadata": {},
   "source": [
    "&#9989; **Question 2.5 (4 points)**: Make a scatterplot with `Ladder score` on the x-axis and `Healthy life expectancy` on the y-axis. **Again, make sure to label your axes and give your plot a title.** Do you see some relationship/correlation between the variables? Discuss briefly."
   ]
  },
  {
   "cell_type": "code",
   "execution_count": 82,
   "metadata": {},
   "outputs": [
    {
     "data": {
      "text/plain": [
       "Text(0.5, 1.0, 'Healthy life expectancy vs. Ladder Score')"
      ]
     },
     "execution_count": 82,
     "metadata": {},
     "output_type": "execute_result"
    },
    {
     "data": {
      "image/png": "[encoded data removed]",
      "text/plain": [
       "<Figure size 640x480 with 1 Axes>"
      ]
     },
     "metadata": {},
     "output_type": "display_data"
    }
   ],
   "source": [
    "# Put your code for Question 2.5 here\n",
    "plt.scatter(ladder_score,life_expectancy)\n",
    "plt.xlabel('Ladder Score')\n",
    "plt.ylabel('Healthy life expectancy')\n",
    "plt.title('Healthy life expectancy vs. Ladder Score')"
   ]
  },
  {
   "cell_type": "markdown",
   "metadata": {},
   "source": [
    "**<font size=+3>&#9998;</font>** There appears to be some positive, linear correlation between ladder score and healthy life expectancy"
   ]
  },
  {
   "cell_type": "markdown",
   "metadata": {},
   "source": [
    "&#9989; **Question 2.6 (2 points)**: Suppose we wanted to look at the relationships between every pair of numerical features (the relationship being either quantified with numbers/values or visualized), what specific Python/Pandas function(s) could you use to do this efficiently? **No need to code this.**"
   ]
  },
  {
   "cell_type": "markdown",
   "metadata": {},
   "source": [
    "**<font size=+3>&#9998;</font>** You can use a scatter matrix to visualize correlations between data in a data file"
   ]
  },
  {
   "cell_type": "markdown",
   "metadata": {},
   "source": [
    "---\n",
    "### &#128721; STOP\n",
    "**Pause to commit your changes to your Git repository!**\n",
    "\n",
    "Take a moment to save your notebook, commit the changes to your Git repository using the commit message \"**Committing Part 2**\", and push the changes to GitHub.\n",
    "\n",
    "---"
   ]
  },
  {
   "cell_type": "markdown",
   "metadata": {},
   "source": [
    "---\n",
    "## Part 3: Working with a new Python package (18 points)"
   ]
  },
  {
   "cell_type": "markdown",
   "metadata": {},
   "source": [
    "In this part of the exam, you will install a Python package that you probably have not used before, and use it to perform simple tasks. Specifically, you will use a package called `GeoPy` to perform some tasks. Its a good tool to locate coordinates of addresses, cities, etc. The Github page for the package is https://github.com/geopy/geopy and documentation can be found at https://geopy.readthedocs.io/en/latest/#module-geopy.geocoders."
   ]
  },
  {
   "cell_type": "markdown",
   "metadata": {},
   "source": [
    "&#9989; **Question 3.1 (2 points)**: `GeoPy` may not be automatically included in your Python installation. However, you should be able to install the package in the same way we have previously installed Python packages.\n",
    "\n",
    "**Do this**: Install the `GeoPy` Python package.\n",
    "\n",
    "What command did you use to install `GeoPy`? **Include this command in the cell below.**"
   ]
  },
  {
   "cell_type": "markdown",
   "metadata": {},
   "source": [
    "``` bash\n",
    "pip install --user \"GeoPy\"\n",
    "\n",
    "```"
   ]
  },
  {
   "cell_type": "markdown",
   "metadata": {},
   "source": [
    "Once `Geopy` is installed, running the following cell should not result in an error message. **You might need to re-start your Jupyter kernel after installing the package for this to work.** (Once everything works, it should give you no output at all.)"
   ]
  },
  {
   "cell_type": "code",
   "execution_count": 89,
   "metadata": {},
   "outputs": [],
   "source": [
    "# Running this cell should just work and not yield any output if GeoPy is installed and available\n",
    "import geopy"
   ]
  },
  {
   "cell_type": "markdown",
   "metadata": {},
   "source": [
    "In the following questions, you will use the `GeoPy` package to perform some tasks. **Note that you will only receive points for showing code and using it to get answers. Getting correct answers without appropriate code will not get you points.**"
   ]
  },
  {
   "cell_type": "markdown",
   "metadata": {},
   "source": [
    "&#9989; **Do this**: We need to first import a geocoder that pertains to a geolocation service such as Google Maps, Bing Maps, or Nominatim. Run the following cell to do this."
   ]
  },
  {
   "cell_type": "code",
   "execution_count": 95,
   "metadata": {},
   "outputs": [],
   "source": [
    "from geopy.geocoders import Nominatim\n",
    "geolocator = Nominatim(user_agent=\"http\")"
   ]
  },
  {
   "cell_type": "markdown",
   "metadata": {},
   "source": [
    "&#9989; **Question 3.2 (4 points)**: **Do this**: Use the package to map the query `233 S Wacker Dr Chicago` to a full address and landmark name. Print that out with Python. Also extract and print its latitude and longitude. **Note: You will only get points for this for writing appropriate code not for finding answers others ways.**  **Sometimes packages may produce errors that take time to resolve. If that happens, just focus on inputting the correct code below. Points will be given for appropriate code.**"
   ]
  },
  {
   "cell_type": "code",
   "execution_count": 103,
   "metadata": {},
   "outputs": [
    {
     "name": "stdout",
     "output_type": "stream",
     "text": [
      "Willis Tower, 233, South Wacker Drive, Printer's Row, Loop, Chicago, Cook County, Illinois, 60606, United States\n",
      "(41.878738049999995, -87.63596121188081)\n",
      "{'place_id': 26394928, 'licence': 'Data © OpenStreetMap contributors, ODbL 1.0. http://osm.org/copyright', 'osm_type': 'way', 'osm_id': 380868216, 'lat': '41.878738049999995', 'lon': '-87.63596121188081', 'class': 'building', 'type': 'commercial', 'place_rank': 30, 'importance': 0.4945107854347165, 'addresstype': 'building', 'name': 'Willis Tower', 'display_name': \"Willis Tower, 233, South Wacker Drive, Printer's Row, Loop, Chicago, Cook County, Illinois, 60606, United States\", 'boundingbox': ['41.8781922', '41.8792768', '-87.6365297', '-87.6353939']}\n"
     ]
    }
   ],
   "source": [
    "# Put your code for Question 3.2 here\n",
    "\n",
    "geolocator = Nominatim(user_agent=\"API\")\n",
    "location = geolocator.geocode(\"233 S Wacker Dr Chicago\")\n",
    "\n",
    "print(location.address)\n",
    "\n",
    "print((location.latitude, location.longitude))\n",
    "\n",
    "print(location.raw)\n"
   ]
  },
  {
   "cell_type": "markdown",
   "metadata": {},
   "source": [
    "&#9989; **Question 3.3 (4 points)**: **Do this**: Use the package to find and print the address corresponding to the latitude and longitude (42.7251 N, 84.4791 W). Then use the package to find and print the address for latitude and longitude (48.8584 N, 2.2945 E).  Based on the printed output from code say where/what the second location is. Explain it based on the code output.   **The package may require latitudes and/or longitudes to be input with `+` or `-` sign. Make sure to look at documentation.**"
   ]
  },
  {
   "cell_type": "code",
   "execution_count": 116,
   "metadata": {},
   "outputs": [
    {
     "name": "stdout",
     "output_type": "stream",
     "text": [
      "巴音布鲁克镇 بايىنبۇلاق بازىرى, 和静县 خېجىڭ ناھىيىسى, 巴音郭楞蒙古自治州 بايىنغولىن موڭغۇل ئاپتونوم ئوبلاستى, 新疆维吾尔自治区 شىنجاڭ ئۇيغۇر ئاپتونوم رايونی, 中国\n",
      "(42.72534125, 84.58400451056585)\n",
      "{'place_id': 223650820, 'licence': 'Data © OpenStreetMap contributors, ODbL 1.0. http://osm.org/copyright', 'osm_type': 'relation', 'osm_id': 9310013, 'lat': '42.72534125', 'lon': '84.58400451056585', 'class': 'boundary', 'type': 'administrative', 'place_rank': 16, 'importance': 0.35000999999999993, 'addresstype': 'city_district', 'name': '巴音布鲁克镇 بايىنبۇلاق بازىرى', 'display_name': '巴音布鲁克镇 بايىنبۇلاق بازىرى, 和静县 خېجىڭ ناھىيىسى, 巴音郭楞蒙古自治州 بايىنغولىن موڭغۇل ئاپتونوم ئوبلاستى, 新疆维吾尔自治区 شىنجاڭ ئۇيغۇر ئاپتونوم رايونی, 中国', 'address': {'city_district': '巴音布鲁克镇 بايىنبۇلاق بازىرى', 'city': '和静县 خېجىڭ ناھىيىسى', 'region': '巴音郭楞蒙古自治州 بايىنغولىن موڭغۇل ئاپتونوم ئوبلاستى', 'state': '新疆维吾尔自治区 شىنجاڭ ئۇيغۇر ئاپتونوم رايونی', 'ISO3166-2-lvl4': 'CN-XJ', 'country': '中国', 'country_code': 'cn'}, 'boundingbox': ['42.2757436', '43.1735297', '83.9988658', '85.4181413']}\n"
     ]
    }
   ],
   "source": [
    "geolocator = Nominatim(user_agent=\"API\")\n",
    "location = geolocator.reverse(\"42.7251, 84.4791\")\n",
    "print(location.address)\n",
    "\n",
    "print((location.latitude, location.longitude))\n",
    "\n",
    "print(location.raw)\n"
   ]
  },
  {
   "cell_type": "code",
   "execution_count": 117,
   "metadata": {},
   "outputs": [
    {
     "name": "stdout",
     "output_type": "stream",
     "text": [
      "Tour Eiffel, 5, Avenue Anatole France, Quartier du Gros-Caillou, Paris 7e Arrondissement, Paris, Île-de-France, France métropolitaine, 75007, France\n",
      "(48.8582599, 2.2945006358633115)\n",
      "{'place_id': 115169702, 'licence': 'Data © OpenStreetMap contributors, ODbL 1.0. http://osm.org/copyright', 'osm_type': 'way', 'osm_id': 5013364, 'lat': '48.8582599', 'lon': '2.2945006358633115', 'class': 'historic', 'type': 'monument', 'place_rank': 30, 'importance': 0.5868325701744196, 'addresstype': 'historic', 'name': 'Tour Eiffel', 'display_name': 'Tour Eiffel, 5, Avenue Anatole France, Quartier du Gros-Caillou, Paris 7e Arrondissement, Paris, Île-de-France, France métropolitaine, 75007, France', 'address': {'historic': 'Tour Eiffel', 'house_number': '5', 'road': 'Avenue Anatole France', 'city_block': 'Quartier du Gros-Caillou', 'suburb': 'Paris 7e Arrondissement', 'city_district': 'Paris', 'city': 'Paris', 'ISO3166-2-lvl6': 'FR-75', 'state': 'Île-de-France', 'ISO3166-2-lvl4': 'FR-IDF', 'region': 'France métropolitaine', 'postcode': '75007', 'country': 'France', 'country_code': 'fr'}, 'boundingbox': ['48.8574753', '48.8590453', '2.2933119', '2.2956897']}\n"
     ]
    }
   ],
   "source": [
    "geolocator = Nominatim(user_agent=\"API\")\n",
    "location = geolocator.reverse(\"48.8584, 2.2945\")\n",
    "print(location.address)\n",
    "\n",
    "print((location.latitude, location.longitude))\n",
    "\n",
    "print(location.raw)\n"
   ]
  },
  {
   "cell_type": "markdown",
   "metadata": {},
   "source": [
    "**<font size=+3>&#9998;</font> The second location is the Eiffel Tower in Paris, France. The code displays the output and location in French"
   ]
  },
  {
   "cell_type": "markdown",
   "metadata": {},
   "source": [
    "&#9989; **Question 3.4 (3 points)**: **Do this**: Now use the package to compute and print the `geodesic` distance between the coordinates (42.7251 N, 84.4791 W) and (48.8584 N, 2.2945 E) in units of kilometers."
   ]
  },
  {
   "cell_type": "code",
   "execution_count": 121,
   "metadata": {},
   "outputs": [
    {
     "name": "stdout",
     "output_type": "stream",
     "text": [
      "3177.0742526454637\n"
     ]
    }
   ],
   "source": [
    "# Put your code for Question 3.4 here \n",
    "from geopy import distance\n",
    "\n",
    "Asia = (42.7251, 42.7251)\n",
    "France = (48.8584, 2.2945)\n",
    "print(distance.distance(Asia, France).kilometers)\n",
    "\n"
   ]
  },
  {
   "cell_type": "markdown",
   "metadata": {},
   "source": [
    "&#9989; **Question 3.5 (2 points)**: **Do This**: Use a geopy functionality to convert a distance of 10 miles to kilometers. Print this out. **You will only get points for the appropriate geopy code, not for providing an answer directly otherwise.**"
   ]
  },
  {
   "cell_type": "code",
   "execution_count": 122,
   "metadata": {},
   "outputs": [
    {
     "data": {
      "text/plain": [
       "16.09344"
      ]
     },
     "execution_count": 122,
     "metadata": {},
     "output_type": "execute_result"
    }
   ],
   "source": [
    "# Put your code for Question 3.5 here\n",
    "geopy.units.kilometers(miles=10)"
   ]
  },
  {
   "cell_type": "markdown",
   "metadata": {},
   "source": [
    "&#9989; **Question 3.6 (3 points)**: **Do This**: In a few sentences, say what you have learned about the `GeoPy` package and its utilities."
   ]
  },
  {
   "cell_type": "markdown",
   "metadata": {},
   "source": [
    "**<font size=+3>&#9998;</font> Do This**: **Answer Question 3.6 here.**"
   ]
  },
  {
   "cell_type": "markdown",
   "metadata": {},
   "source": [
    "---\n",
    "### &#128721; STOP\n",
    "**Pause to commit your changes to your Git repository!**\n",
    "\n",
    "Take a moment to save your notebook, commit the changes to your Git repository using the commit message \"**Committing Part 3**\", and push the changes to GitHub.\n",
    "\n",
    "---"
   ]
  },
  {
   "cell_type": "markdown",
   "metadata": {},
   "source": [
    "---\n",
    "## Part 4: Writing and using Python classes (18 points)"
   ]
  },
  {
   "cell_type": "markdown",
   "metadata": {},
   "source": [
    "In this part of the exam, you will practice object-oriented programming (OOP). Specifically, you will first test out a `Student` class, which is used to keep track of a student's courses and grades. After verifying  the `Student` class works and adding components to it, you will debug and add to a `Studygroup` class which will keep track of several students in a study group. \n",
    "\n",
    "&#9989; **Do This**: To get started, run the code cell below, but **DO NOT modify it.**"
   ]
  },
  {
   "cell_type": "code",
   "execution_count": 83,
   "metadata": {},
   "outputs": [],
   "source": [
    "### RUN THIS CELL, BUT DO NOT MODIFY IT\n",
    "### RUN THIS CELL, BUT DO NOT MODIFY IT\n",
    "class Student:\n",
    "    '''This is a class used to keep track of courses and grades a student gets.'''\n",
    "    \n",
    "    def __init__(self,name):\n",
    "        '''Create a student with no classes or grades yet'''\n",
    "        self.name = name   #Student name \n",
    "        self.numcourses = 0   #number of courses student has taken\n",
    "        self.numAs = 0   #number of As so far\n",
    "        self.numFs = 0   #number of Fs so far\n",
    "        self.courses = []  #List of all courses the student took.\n",
    "        self.grades = []  #List of corresponding grades the student got.\n",
    "        self.Acourses = [] # List of courses the student got A in\n",
    "        self.Fcourses = [] # List of courses the student failed in\n",
    "        \n",
    "    def add_class(self,course=\"\",grade=\"\"):\n",
    "        ''' Record a course and grade and stats'''\n",
    "        self.numcourses += 1\n",
    "        self.courses.append(course)\n",
    "        self.grades.append(grade)\n",
    "        if grade == 'A':\n",
    "            self.Acourses.append(course)\n",
    "            self.numAs += 1\n",
    "        if grade == 'F':\n",
    "            self.Fcourses.append(course)\n",
    "            self.numFs += 1\n",
    "        \n",
    "\n",
    "    def check_Fs(self):\n",
    "        ''' Check number of Fs'''\n",
    "        print(\"number of Fs is\", self.numFs)\n",
    "        if self.numFs > 1:\n",
    "            print(\"Watch out!\", self.name, \"needs to up their game.\") \n",
    "\n",
    "\n",
    "    def check_As(self):\n",
    "        ''' Check number of As'''\n",
    "        print(\"number of As is\", self.numAs)\n",
    "        if self.numAs > 1:\n",
    "            print(\"Hooray\", self.name, \"is doing well.\")\n",
    "        \n",
    "    def show_record(self):\n",
    "        ''' Display the student record'''\n",
    "        print(self.name, \":\", \"Courses:\", self.courses, \"Grades:\", self.grades)\n",
    "\n",
    "        \n",
    "### RUN THIS CELL, BUT DO NOT MODIFY IT\n",
    "### RUN THIS CELL, BUT DO NOT MODIFY IT"
   ]
  },
  {
   "cell_type": "markdown",
   "metadata": {},
   "source": [
    "&#9989; **Question 4.1 [11 points]**: **Do this**: You are given a `Student` class above that helps to track a student's academic progress and records classes a student takes, grades achieved, and if they are Acing classes or failing them. We would like to verify that the class works as intended. Accomplish the following in the cell below. \n",
    "\n",
    "1. Add a new method to the class above called `check_coursegrade` that takes a course name as a string argument `course` and prints out the course grade. If the course is not in the student record, it should print out `Student has not taken this course`. Copy the original class into the cell below as is and add the new method below. **(4 points)**\n",
    "   \n",
    "2. Create a `Student` object with `name` attribute `Amy` and store it in a variable `Student1`. **(1 point)**\n",
    "\n",
    "3. Call `Student1`'s `add_class()` method with `CMSE201` and `B` as the `course` and `grade` arguments. Note that the course name and grade should be given as strings.  **(1 point)**\n",
    "\n",
    "4. Call `Student1`'s `add_class()` method again with `CMSE202` and `A` as the `course` and `grade` arguments, respectively.  **(1 point)**\n",
    "\n",
    "5. Call `Student1`'s `check_As()` method.  **(1 point)**\n",
    "\n",
    "6. Call `Student1`'s `check_Fs()` method. **(1 point)**\n",
    "\n",
    "7. Call `Student1`'s `show_record()` method. **(1 point)**\n",
    "   \n",
    "8.  Call the `check_coursegrade` method for the `Student1` object with argument `CMSE202` as a string.  **(1 point)**\n",
    "\n",
    "If you did the above steps correctly, you should see the following lines printed:\n",
    "\n",
    "> number of As is 1 \\\n",
    "number of Fs is 0 \\\n",
    "Amy : Courses: ['CMSE201', 'CMSE202'] Grades: ['B', 'A'] \\\n",
    "The grade is A"
   ]
  },
  {
   "cell_type": "code",
   "execution_count": 92,
   "metadata": {},
   "outputs": [],
   "source": [
    "# Put your code for Question 4.1 here\n",
    "\n",
    "class Student:\n",
    "    '''This is a class used to keep track of courses and grades a student gets.'''\n",
    "    \n",
    "    def __init__(self,name):\n",
    "        '''Create a student with no classes or grades yet'''\n",
    "        self.name = name   #Student name \n",
    "        self.numcourses = 0   #number of courses student has taken\n",
    "        self.numAs = 0   #number of As so far\n",
    "        self.numFs = 0   #number of Fs so far\n",
    "        self.courses = []  #List of all courses the student took.\n",
    "        self.grades = []  #List of corresponding grades the student got.\n",
    "        self.Acourses = [] # List of courses the student got A in\n",
    "        self.Fcourses = [] # List of courses the student failed in\n",
    "        \n",
    "    def add_class(self,course=\"\",grade=\"\"):\n",
    "        ''' Record a course and grade and stats'''\n",
    "        self.numcourses += 1\n",
    "        self.courses.append(course)\n",
    "        self.grades.append(grade)\n",
    "        if grade == 'A':\n",
    "            self.Acourses.append(course)\n",
    "            self.numAs += 1\n",
    "        if grade == 'F':\n",
    "            self.Fcourses.append(course)\n",
    "            self.numFs += 1\n",
    "        \n",
    "\n",
    "    def check_Fs(self):\n",
    "        ''' Check number of Fs'''\n",
    "        print(\"number of Fs is\", self.numFs)\n",
    "        if self.numFs > 1:\n",
    "            print(\"Watch out!\", self.name, \"needs to up their game.\") \n",
    "\n",
    "\n",
    "    def check_As(self):\n",
    "        ''' Check number of As'''\n",
    "        print(\"number of As is\", self.numAs)\n",
    "        if self.numAs > 1:\n",
    "            print(\"Hooray\", self.name, \"is doing well.\")\n",
    "\n",
    "    def check_coursegrade(self,course,grades):\n",
    "        print('The grade is',self.grade)\n",
    "        \n",
    "    \n",
    "    def show_record(self):\n",
    "        ''' Display the student record'''\n",
    "        print(self.name, \":\", \"Courses:\", self.courses, \"Grades:\", self.grades)\n",
    "\n",
    "        "
   ]
  },
  {
   "cell_type": "code",
   "execution_count": 94,
   "metadata": {},
   "outputs": [],
   "source": [
    "Amy = Student('Amy')"
   ]
  },
  {
   "cell_type": "markdown",
   "metadata": {},
   "source": [
    "&#9989; **Question 4.2 [7 points total]**: **Do this**: The cell below has code for a class called `Studygroup` that we intend to use to keep track of students joining an undergraduate study group. **Debug the methods in the `Studygroup` class.** **(6 points for debugging)**\n",
    "\n",
    "\n",
    "This new `Studygroup` class should do the following:\n",
    "\n",
    "* The `__init__()` method should create a new `Studygroup` object with a specified `group_name` attribute and another attribute called `students_dict` which is initially an empty Python **dictionary**. This dictionary will be used for storing `Student` objects. The dictionary keys will be strings containing the name attribute of each `Student` object and the dictionary values will be the `Student` objects themselves.\n",
    "\n",
    "* The `add_student()` method should add a new key:value pair to the `students_dict` dictionary, where the key is the `name` attribute of the new `Student` object and the value is the `Student` object itself.\n",
    "    \n",
    "* The `update_student_grade()` method updates the record of a particular student with a new course and corresponding grade. The `name`, `course`, and `grade` arguments are strings with the student name, course, and grade, respectively. This method will access the corresponding student object in the `students_dict` dictionary (using its key) and call the `add_class` method to add the course and grade for the object.\n",
    "\n",
    "* The `show_grouprecord()` method is intended to print out the record of each student. It\n",
    "    * prints the `group name attribute` and the string `Group Record`.\n",
    "    * for each `Student` object in `students_dict`, it calls the `show_record()`, `check_As()`, and `check_Fs()` methods to print the student record.\n",
    "    \n",
    "    \n",
    "**Hint**: A certain word is missing often below. This word is longer than elf. Also check method calls inside the class for any errors."
   ]
  },
  {
   "cell_type": "code",
   "execution_count": 60,
   "metadata": {},
   "outputs": [],
   "source": [
    "### Debug the class below.\n",
    "\n",
    "class Studygroup:\n",
    "    '''\n",
    "    This is a class used to keep track of students joining a study group, specifically\n",
    "    their courses and grades.\n",
    "    '''\n",
    "    def __init__(group_name):\n",
    "        '''Create a new group with specified name, but no students'''\n",
    "        self.group_name = group_name\n",
    "        self.students_dict = {}\n",
    "    \n",
    "    def add_student(student_obj):\n",
    "        '''Add a new student object (with its name attribute already set) to the group'''\n",
    "        self.students_dict[student_obj.name] = student_obj\n",
    "    \n",
    "    def update_student_grade(name,course,grade):\n",
    "        '''Update a particular student's record with a course and grade'''\n",
    "        self.students_dict[name].add_class()\n",
    "    \n",
    "    def show_grouprecord():\n",
    "        '''Display the record of all students in the group'''\n",
    "        print(self.group_name,\"Group Record\")\n",
    "        for student in self.students_dict.values():\n",
    "            student.show_record()\n",
    "            student.check_As()\n",
    "            student.check_Fs()"
   ]
  },
  {
   "cell_type": "markdown",
   "metadata": {},
   "source": [
    "&#9989; **Do this**: When you are done editing the `Studygroup` class, run the cell below to test it out, but **DO NOT modify it.**  **(1 point for getting correct output below)**"
   ]
  },
  {
   "cell_type": "code",
   "execution_count": null,
   "metadata": {},
   "outputs": [],
   "source": [
    "### RUN THIS CELL, BUT DO NOT MODIFY IT\n",
    "### RUN THIS CELL, BUT DO NOT MODIFY IT\n",
    "# Create some students\n",
    "Student2 = Student(\"Annie\")\n",
    "Student3 = Student(\"David\")\n",
    "Student4 = Student(\"Soomin\")\n",
    "Student5 = Student(\"Nick\")\n",
    "\n",
    "# Create a group and add the students to the group\n",
    "Amazing_group = Studygroup(\"AmazingGroup\")\n",
    "Amazing_group.add_student(Student2)\n",
    "Amazing_group.add_student(Student3)\n",
    "Amazing_group.add_student(Student4)\n",
    "Amazing_group.add_student(Student5)\n",
    "\n",
    "# Add some student grades\n",
    "Amazing_group.update_student_grade(\"Annie\",\"CMSE201\",\"A\")\n",
    "Amazing_group.update_student_grade(\"David\",\"CMSE201\",\"B\")\n",
    "Amazing_group.update_student_grade(\"Soomin\",\"CMSE201\",\"B\")\n",
    "Amazing_group.update_student_grade(\"Nick\",\"CMSE201\",\"F\")\n",
    "\n",
    "# Display record of students in group.\n",
    "Amazing_group.show_grouprecord()\n",
    "\n",
    "### RUN THIS CELL, BUT DO NOT MODIFY IT\n",
    "### RUN THIS CELL, BUT DO NOT MODIFY IT"
   ]
  },
  {
   "cell_type": "markdown",
   "metadata": {},
   "source": [
    "If everything worked correctly, you should see an output that looks like this:\n",
    "> AmazingGroup Group Record \\\n",
    "Annie : Courses: ['CMSE201'] Grades: ['A'] \\\n",
    "number of As is 1 \\\n",
    "number of Fs is 0 \\\n",
    "David : Courses: ['CMSE201'] Grades: ['B'] \\\n",
    "number of As is 0 \\\n",
    "number of Fs is 0 \\\n",
    "Soomin : Courses: ['CMSE201'] Grades: ['B'] \\\n",
    "number of As is 0 \\\n",
    "number of Fs is 0 \\\n",
    "Nick : Courses: ['CMSE201'] Grades: ['F'] \\\n",
    "number of As is 0 \\\n",
    "number of Fs is 1 "
   ]
  },
  {
   "cell_type": "markdown",
   "metadata": {},
   "source": [
    "---\n",
    "### &#128721; STOP\n",
    "**Pause to commit your changes to your Git repository!**\n",
    "\n",
    "Take a moment to save your notebook, commit the changes to your Git repository using the commit message \"**Committing Part 4**\", and push the changes to GitHub.\n",
    "\n",
    "---"
   ]
  },
  {
   "cell_type": "markdown",
   "metadata": {},
   "source": [
    "## You're done! Congrats on finishing your CMSE 202 Midterm!\n",
    "\n",
    "Make sure all of your changes to your repository are committed and pushed to GitHub. Also upload a copy of this notebook to the dropbox in D2L."
   ]
  }
 ],
 "metadata": {
  "kernelspec": {
   "display_name": "Python 3.11 (default)",
   "language": "python",
   "name": "python3"
  },
  "language_info": {
   "codemirror_mode": {
    "name": "ipython",
    "version": 3
   },
   "file_extension": ".py",
   "mimetype": "text/x-python",
   "name": "python",
   "nbconvert_exporter": "python",
   "pygments_lexer": "ipython3",
   "version": "3.11.6"
  }
 },
 "nbformat": 4,
 "nbformat_minor": 4
}
